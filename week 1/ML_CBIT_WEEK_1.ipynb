{
 "cells": [
  {
   "cell_type": "code",
   "execution_count": 1,
   "metadata": {},
   "outputs": [
    {
     "name": "stdout",
     "output_type": "stream",
     "text": [
      "[3, 6, 9, 12, 30, 66, 369]\n"
     ]
    }
   ],
   "source": [
    "List = {1,2,3,4,10,123,22}\n",
    "new_list = list(map(lambda x:x*3,List)) \n",
    "print(new_list)"
   ]
  },
  {
   "cell_type": "code",
   "execution_count": 2,
   "metadata": {},
   "outputs": [
    {
     "name": "stdout",
     "output_type": "stream",
     "text": [
      "sum  30\n"
     ]
    }
   ],
   "source": [
    "x=lambda a,b:a+b\n",
    "print(\"sum \",x(20,10))"
   ]
  },
  {
   "cell_type": "code",
   "execution_count": 3,
   "metadata": {},
   "outputs": [
    {
     "name": "stdout",
     "output_type": "stream",
     "text": [
      "[        1        16        59       202       565      1316      2671\n",
      "      4894      8297     13240     20131     29426     41629     57292\n",
      "     77015    101446    131281    167264    210187    260890    320261\n",
      "    389236    468799    559982    663865    781576    914291   1063234\n",
      "   1229677   1414940   1620391   1847446   2097569   2372272   2673115\n",
      "   3001706   3359701   3748804   4170767   4627390   5120521   5652056\n",
      "   6223939   6838162   7496765   8201836   8955511   9759974  10617457\n",
      "  11530240  12500651  13531066  14623909  15781652  17006815  18301966\n",
      "  19669721  21112744  22633747  24235490  25920781  27692476  29553479\n",
      "  31506742  33555265  35702096  37950331  40303114  42763637  45335140\n",
      "  48020911  50824286  53748649  56797432  59974115  63282226  66725341\n",
      "  70307084  74031127  77901190  81921041  86094496  90425419  94917722\n",
      "  99575365 104402356 109402751 114580654 119940217 125485640 131221171\n",
      " 137151106 143279789 149611612 156151015 162902486 169870561 177059824\n",
      " 184474907 192120490]\n"
     ]
    },
    {
     "data": {
      "text/plain": [
       "Reusing TensorBoard on port 6006 (pid 16604), started 0:11:54 ago. (Use '!kill 16604' to kill it.)"
      ]
     },
     "metadata": {},
     "output_type": "display_data"
    },
    {
     "data": {
      "text/html": [
       "\n",
       "        <iframe\n",
       "            width=\"100%\"\n",
       "            height=\"600\"\n",
       "            src=\"http://localhost:6006\"\n",
       "            frameborder=\"0\"\n",
       "            allowfullscreen\n",
       "        ></iframe>\n",
       "        "
      ],
      "text/plain": [
       "<IPython.lib.display.IFrame at 0x23ac27dce10>"
      ]
     },
     "metadata": {},
     "output_type": "display_data"
    }
   ],
   "source": [
    "%load_ext tensorboard.notebook\n",
    "import numpy as np\n",
    "import tensorflow as tf\n",
    "tf.reset_default_graph()\n",
    "\n",
    "x_v = np.arange(100)\n",
    "y_v = np.arange(100)\n",
    "\n",
    "x = tf.placeholder(tf.int32, shape=(100,))\n",
    "y = tf.placeholder(tf.int32, shape=(100,))\n",
    "\n",
    "with tf.Session() as sess:\n",
    "    \n",
    "    #x = tf.constant(3)\n",
    "    #y = tf.constant(4)\n",
    "    z = tf.multiply(2,tf.pow(x,4)) + tf.multiply(13,y) + 1\n",
    "    w = tf.summary.FileWriter('logs',sess.graph)\n",
    "    result = sess.run(z, feed_dict={x: x_v , y: y_v})\n",
    "print(result)\n",
    "%tensorboard --logdir logs/\n"
   ]
  },
  {
   "cell_type": "code",
   "execution_count": 5,
   "metadata": {},
   "outputs": [
    {
     "name": "stdout",
     "output_type": "stream",
     "text": [
      "['sepal length (cm)', 'sepal width (cm)', 'petal length (cm)', 'petal width (cm)']\n",
      "['setosa' 'versicolor' 'virginica']\n"
     ]
    }
   ],
   "source": [
    "import numpy as np\n",
    "import seaborn as sns\n",
    "from sklearn import datasets\n",
    "import pandas as pd\n",
    "\n",
    "iris = datasets.load_iris()\n",
    "print (iris.feature_names)\n",
    "#print(iris.target)\n",
    "print(iris.target_names)"
   ]
  },
  {
   "cell_type": "code",
   "execution_count": 6,
   "metadata": {},
   "outputs": [
    {
     "name": "stdout",
     "output_type": "stream",
     "text": [
      "   sepal length (cm)  sepal width (cm)  petal length (cm)  petal width (cm)\n",
      "0                5.1               3.5                1.4               0.2\n",
      "1                4.9               3.0                1.4               0.2\n",
      "2                4.7               3.2                1.3               0.2\n",
      "3                4.6               3.1                1.5               0.2\n",
      "4                5.0               3.6                1.4               0.2\n"
     ]
    }
   ],
   "source": [
    "iris_df = pd.DataFrame(iris['data'],columns=iris['feature_names'])\n",
    "print(iris_df.head())\n",
    "iris_df['species'] = iris['target']"
   ]
  },
  {
   "cell_type": "code",
   "execution_count": 7,
   "metadata": {
    "scrolled": false
   },
   "outputs": [
    {
     "data": {
      "text/plain": [
       "<seaborn.axisgrid.FacetGrid at 0x23abbc78ef0>"
      ]
     },
     "execution_count": 7,
     "metadata": {},
     "output_type": "execute_result"
    },
    {
     "data": {
      "image/png": "[encoded data removed]",
      "text/plain": [
       "<Figure size 405.725x360 with 1 Axes>"
      ]
     },
     "metadata": {},
     "output_type": "display_data"
    }
   ],
   "source": [
    "sns.set()\n",
    "sns.lmplot(x='sepal length (cm)', y='petal length (cm)',data=iris_df, legend_out=True, hue='species',fit_reg=False)"
   ]
  },
  {
   "cell_type": "code",
   "execution_count": null,
   "metadata": {},
   "outputs": [],
   "source": []
  }
 ],
 "metadata": {
  "kernelspec": {
   "display_name": "Python 3",
   "language": "python",
   "name": "python3"
  },
  "language_info": {
   "codemirror_mode": {
    "name": "ipython",
    "version": 3
   },
   "file_extension": ".py",
   "mimetype": "text/x-python",
   "name": "python",
   "nbconvert_exporter": "python",
   "pygments_lexer": "ipython3",
   "version": "3.7.1"
  }
 },
 "nbformat": 4,
 "nbformat_minor": 2
}
